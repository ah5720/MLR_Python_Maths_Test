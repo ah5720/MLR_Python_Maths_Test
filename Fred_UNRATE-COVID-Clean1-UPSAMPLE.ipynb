{
 "cells": [
  {
   "cell_type": "code",
   "execution_count": 1,
   "id": "741fa4b0",
   "metadata": {},
   "outputs": [],
   "source": [
    "import pandas_datareader as pdf\n",
    "import matplotlib.pyplot as plt\n",
    "import pandas as pd\n",
    "import statsmodels.formula.api as smf\n",
    "import statsmodels.api as sm\n",
    "import seaborn as sns"
   ]
  },
  {
   "cell_type": "code",
   "execution_count": 2,
   "id": "8401faa2",
   "metadata": {},
   "outputs": [
    {
     "data": {
      "text/html": [
       "<div>\n",
       "<style scoped>\n",
       "    .dataframe tbody tr th:only-of-type {\n",
       "        vertical-align: middle;\n",
       "    }\n",
       "\n",
       "    .dataframe tbody tr th {\n",
       "        vertical-align: top;\n",
       "    }\n",
       "\n",
       "    .dataframe thead th {\n",
       "        text-align: right;\n",
       "    }\n",
       "</style>\n",
       "<table border=\"1\" class=\"dataframe\">\n",
       "  <thead>\n",
       "    <tr style=\"text-align: right;\">\n",
       "      <th></th>\n",
       "      <th>UNRATE</th>\n",
       "      <th>FEDFUNDS</th>\n",
       "      <th>INDPRO</th>\n",
       "      <th>W823RC1</th>\n",
       "      <th>CBBTCUSD</th>\n",
       "    </tr>\n",
       "  </thead>\n",
       "  <tbody>\n",
       "    <tr>\n",
       "      <th>count</th>\n",
       "      <td>59.000000</td>\n",
       "      <td>59.000000</td>\n",
       "      <td>59.000000</td>\n",
       "      <td>58.000000</td>\n",
       "      <td>1824.000000</td>\n",
       "    </tr>\n",
       "    <tr>\n",
       "      <th>mean</th>\n",
       "      <td>5.047458</td>\n",
       "      <td>1.063220</td>\n",
       "      <td>100.375137</td>\n",
       "      <td>1037.772414</td>\n",
       "      <td>18021.898684</td>\n",
       "    </tr>\n",
       "    <tr>\n",
       "      <th>std</th>\n",
       "      <td>2.321070</td>\n",
       "      <td>0.904785</td>\n",
       "      <td>3.910134</td>\n",
       "      <td>71.217874</td>\n",
       "      <td>17674.364807</td>\n",
       "    </tr>\n",
       "    <tr>\n",
       "      <th>min</th>\n",
       "      <td>3.500000</td>\n",
       "      <td>0.050000</td>\n",
       "      <td>84.201800</td>\n",
       "      <td>921.600000</td>\n",
       "      <td>1298.440000</td>\n",
       "    </tr>\n",
       "    <tr>\n",
       "      <th>25%</th>\n",
       "      <td>3.800000</td>\n",
       "      <td>0.090000</td>\n",
       "      <td>99.727000</td>\n",
       "      <td>974.925000</td>\n",
       "      <td>6448.165000</td>\n",
       "    </tr>\n",
       "    <tr>\n",
       "      <th>50%</th>\n",
       "      <td>4.100000</td>\n",
       "      <td>1.150000</td>\n",
       "      <td>101.356100</td>\n",
       "      <td>1037.650000</td>\n",
       "      <td>9284.045000</td>\n",
       "    </tr>\n",
       "    <tr>\n",
       "      <th>75%</th>\n",
       "      <td>5.600000</td>\n",
       "      <td>1.870000</td>\n",
       "      <td>102.613550</td>\n",
       "      <td>1090.250000</td>\n",
       "      <td>32832.442500</td>\n",
       "    </tr>\n",
       "    <tr>\n",
       "      <th>max</th>\n",
       "      <td>14.700000</td>\n",
       "      <td>2.420000</td>\n",
       "      <td>104.585300</td>\n",
       "      <td>1197.000000</td>\n",
       "      <td>67510.060000</td>\n",
       "    </tr>\n",
       "  </tbody>\n",
       "</table>\n",
       "</div>"
      ],
      "text/plain": [
       "          UNRATE   FEDFUNDS      INDPRO      W823RC1      CBBTCUSD\n",
       "count  59.000000  59.000000   59.000000    58.000000   1824.000000\n",
       "mean    5.047458   1.063220  100.375137  1037.772414  18021.898684\n",
       "std     2.321070   0.904785    3.910134    71.217874  17674.364807\n",
       "min     3.500000   0.050000   84.201800   921.600000   1298.440000\n",
       "25%     3.800000   0.090000   99.727000   974.925000   6448.165000\n",
       "50%     4.100000   1.150000  101.356100  1037.650000   9284.045000\n",
       "75%     5.600000   1.870000  102.613550  1090.250000  32832.442500\n",
       "max    14.700000   2.420000  104.585300  1197.000000  67510.060000"
      ]
     },
     "execution_count": 2,
     "metadata": {},
     "output_type": "execute_result"
    }
   ],
   "source": [
    "fed_data1 = pdf.get_data_fred(['UNRATE', 'FEDFUNDS', 'INDPRO', 'W823RC1', 'CBBTCUSD'])\n",
    "fed_data1.describe()"
   ]
  },
  {
   "cell_type": "code",
   "execution_count": 3,
   "id": "d2db06bf",
   "metadata": {},
   "outputs": [],
   "source": [
    "fed_data2 = pdf.get_data_fred(['NASDAQCOM', 'DCOILBRENTEU'])\n",
    "fed_data2 = fed_data2.resample('D').asfreq().fillna(method='ffill').reset_index()"
   ]
  },
  {
   "cell_type": "code",
   "execution_count": 4,
   "id": "6c8f84a1",
   "metadata": {},
   "outputs": [],
   "source": [
    "covid_data = pd.read_csv('covid.csv', sep = ',')\n",
    "covid_df = pd.DataFrame(covid_data).set_index('DATE')\n",
    "covid_df.index = pd.to_datetime(covid_df.index)\n",
    "covid_df.index.name = 'DATE'\n"
   ]
  },
  {
   "cell_type": "code",
   "execution_count": 5,
   "id": "f6f2c62a",
   "metadata": {},
   "outputs": [
    {
     "name": "stdout",
     "output_type": "stream",
     "text": [
      "<class 'pandas.core.frame.DataFrame'>\n",
      "Int64Index: 821 entries, 0 to 820\n",
      "Data columns (total 9 columns):\n",
      " #   Column        Non-Null Count  Dtype         \n",
      "---  ------        --------------  -----         \n",
      " 0   DATE          821 non-null    datetime64[ns]\n",
      " 1   Confirmed     821 non-null    int64         \n",
      " 2   UNRATE        26 non-null     float64       \n",
      " 3   FEDFUNDS      26 non-null     float64       \n",
      " 4   INDPRO        26 non-null     float64       \n",
      " 5   W823RC1       25 non-null     float64       \n",
      " 6   CBBTCUSD      820 non-null    float64       \n",
      " 7   NASDAQCOM     821 non-null    float64       \n",
      " 8   DCOILBRENTEU  821 non-null    float64       \n",
      "dtypes: datetime64[ns](1), float64(7), int64(1)\n",
      "memory usage: 64.1 KB\n"
     ]
    }
   ],
   "source": [
    "merge_df = [fed_data1, fed_data2, covid_df]\n",
    "new_df = covid_df.merge(fed_data1, left_index=True, right_index=True).merge(fed_data2, on = 'DATE')\n",
    "new_df.info()"
   ]
  },
  {
   "cell_type": "code",
   "execution_count": 7,
   "id": "f7804136",
   "metadata": {
    "scrolled": false
   },
   "outputs": [
    {
     "name": "stdout",
     "output_type": "stream",
     "text": [
      "                            OLS Regression Results                            \n",
      "==============================================================================\n",
      "Dep. Variable:                W823RC1   R-squared:                       0.924\n",
      "Model:                            OLS   Adj. R-squared:                  0.892\n",
      "Method:                 Least Squares   F-statistic:                     29.42\n",
      "Date:                Mon, 25 Apr 2022   Prob (F-statistic):           2.66e-08\n",
      "Time:                        17:53:32   Log-Likelihood:                -90.490\n",
      "No. Observations:                  25   AIC:                             197.0\n",
      "Df Residuals:                      17   BIC:                             206.7\n",
      "Df Model:                           7                                         \n",
      "Covariance Type:            nonrobust                                         \n",
      "================================================================================\n",
      "                   coef    std err          t      P>|t|      [0.025      0.975]\n",
      "--------------------------------------------------------------------------------\n",
      "Intercept      950.7645    220.404      4.314      0.000     485.752    1415.777\n",
      "UNRATE           0.9106      3.168      0.287      0.777      -5.773       7.594\n",
      "FEDFUNDS         1.3331     14.793      0.090      0.929     -29.878      32.544\n",
      "INDPRO           1.4582      2.242      0.650      0.524      -3.273       6.189\n",
      "Confirmed     2.207e-06   2.97e-07      7.439      0.000    1.58e-06    2.83e-06\n",
      "CBBTCUSD        -0.0005      0.000     -1.981      0.064      -0.001    3.49e-05\n",
      "NASDAQCOM       -0.0001      0.004     -0.036      0.971      -0.008       0.008\n",
      "DCOILBRENTEU    -0.4997      0.451     -1.107      0.284      -1.452       0.452\n",
      "==============================================================================\n",
      "Omnibus:                       33.952   Durbin-Watson:                   2.774\n",
      "Prob(Omnibus):                  0.000   Jarque-Bera (JB):              105.827\n",
      "Skew:                           2.374   Prob(JB):                     1.05e-23\n",
      "Kurtosis:                      11.891   Cond. No.                     3.15e+09\n",
      "==============================================================================\n",
      "\n",
      "Notes:\n",
      "[1] Standard Errors assume that the covariance matrix of the errors is correctly specified.\n",
      "[2] The condition number is large, 3.15e+09. This might indicate that there are\n",
      "strong multicollinearity or other numerical problems.\n"
     ]
    }
   ],
   "source": [
    "reg3 = 'W823RC1~UNRATE+FEDFUNDS+INDPRO+Confirmed+CBBTCUSD+NASDAQCOM+DCOILBRENTEU'\n",
    "reg3output=smf.ols(reg3, new_df).fit()\n",
    "print(reg3output.summary())"
   ]
  },
  {
   "cell_type": "code",
   "execution_count": 8,
   "id": "a1467228",
   "metadata": {},
   "outputs": [
    {
     "name": "stdout",
     "output_type": "stream",
     "text": [
      "                            OLS Regression Results                            \n",
      "==============================================================================\n",
      "Dep. Variable:                W823RC1   R-squared:                       0.918\n",
      "Model:                            OLS   Adj. R-squared:                  0.896\n",
      "Method:                 Least Squares   F-statistic:                     42.52\n",
      "Date:                Mon, 25 Apr 2022   Prob (F-statistic):           1.14e-09\n",
      "Time:                        17:53:56   Log-Likelihood:                -91.405\n",
      "No. Observations:                  25   AIC:                             194.8\n",
      "Df Residuals:                      19   BIC:                             202.1\n",
      "Df Model:                           5                                         \n",
      "Covariance Type:            nonrobust                                         \n",
      "==============================================================================\n",
      "                 coef    std err          t      P>|t|      [0.025      0.975]\n",
      "------------------------------------------------------------------------------\n",
      "Intercept   1054.0206    195.671      5.387      0.000     644.476    1463.565\n",
      "UNRATE         0.4764      3.073      0.155      0.878      -5.956       6.909\n",
      "FEDFUNDS      -2.2051     10.315     -0.214      0.833     -23.795      19.385\n",
      "INDPRO         0.2079      1.813      0.115      0.910      -3.587       4.003\n",
      "Confirmed   1.994e-06   2.26e-07      8.835      0.000    1.52e-06    2.47e-06\n",
      "CBBTCUSD      -0.0006      0.000     -2.917      0.009      -0.001      -0.000\n",
      "==============================================================================\n",
      "Omnibus:                       38.409   Durbin-Watson:                   2.482\n",
      "Prob(Omnibus):                  0.000   Jarque-Bera (JB):              130.914\n",
      "Skew:                           2.761   Prob(JB):                     3.74e-29\n",
      "Kurtosis:                      12.757   Cond. No.                     2.85e+09\n",
      "==============================================================================\n",
      "\n",
      "Notes:\n",
      "[1] Standard Errors assume that the covariance matrix of the errors is correctly specified.\n",
      "[2] The condition number is large, 2.85e+09. This might indicate that there are\n",
      "strong multicollinearity or other numerical problems.\n"
     ]
    }
   ],
   "source": [
    "reg4 = 'W823RC1~UNRATE+FEDFUNDS+INDPRO+Confirmed+CBBTCUSD'\n",
    "reg4output=smf.ols(reg4, new_df).fit()\n",
    "print(reg4output.summary())"
   ]
  },
  {
   "cell_type": "code",
   "execution_count": null,
   "id": "011b4b4c",
   "metadata": {},
   "outputs": [],
   "source": []
  }
 ],
 "metadata": {
  "kernelspec": {
   "display_name": "Python 3",
   "language": "python",
   "name": "python3"
  },
  "language_info": {
   "codemirror_mode": {
    "name": "ipython",
    "version": 3
   },
   "file_extension": ".py",
   "mimetype": "text/x-python",
   "name": "python",
   "nbconvert_exporter": "python",
   "pygments_lexer": "ipython3",
   "version": "3.8.8"
  }
 },
 "nbformat": 4,
 "nbformat_minor": 5
}
