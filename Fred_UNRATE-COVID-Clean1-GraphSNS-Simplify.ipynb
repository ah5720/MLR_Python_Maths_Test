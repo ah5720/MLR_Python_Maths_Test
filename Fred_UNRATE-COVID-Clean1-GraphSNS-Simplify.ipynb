{
 "cells": [
  {
   "cell_type": "code",
   "execution_count": 14,
   "id": "741fa4b0",
   "metadata": {},
   "outputs": [],
   "source": [
    "import pandas_datareader as pdf\n",
    "import matplotlib.pyplot as plt\n",
    "import pandas as pd\n",
    "import statsmodels.formula.api as smf\n",
    "import statsmodels.api as sm\n",
    "import seaborn as sns\n",
    "from scipy import stats\n",
    "plt.rc(\"figure\", figsize=(16, 8))\n",
    "plt.rc(\"font\", size=14)"
   ]
  },
  {
   "cell_type": "code",
   "execution_count": 15,
   "id": "8401faa2",
   "metadata": {},
   "outputs": [
    {
     "name": "stdout",
     "output_type": "stream",
     "text": [
      "<class 'pandas.core.frame.DataFrame'>\n",
      "DatetimeIndex: 59 entries, 2017-05-01 to 2022-03-01\n",
      "Freq: MS\n",
      "Data columns (total 6 columns):\n",
      " #   Column       Non-Null Count  Dtype  \n",
      "---  ------       --------------  -----  \n",
      " 0   UNRATE       59 non-null     float64\n",
      " 1   INDPRO       59 non-null     float64\n",
      " 2   W823RC1      58 non-null     float64\n",
      " 3   POILBREUSDM  55 non-null     float64\n",
      " 4   TSIFRGHTC    58 non-null     float64\n",
      " 5   CPILFESL     59 non-null     float64\n",
      "dtypes: float64(6)\n",
      "memory usage: 3.2 KB\n"
     ]
    }
   ],
   "source": [
    "fed_data1 = pdf.get_data_fred(['UNRATE', 'INDPRO', 'W823RC1', 'POILBREUSDM', 'TSIFRGHTC', 'CPILFESL'])\n",
    "fed_data1.info()"
   ]
  },
  {
   "cell_type": "code",
   "execution_count": 29,
   "id": "315ef84d",
   "metadata": {
    "scrolled": false
   },
   "outputs": [
    {
     "name": "stdout",
     "output_type": "stream",
     "text": [
      "<class 'pandas.core.frame.DataFrame'>\n",
      "RangeIndex: 1819 entries, 0 to 1818\n",
      "Data columns (total 3 columns):\n",
      " #   Column        Non-Null Count  Dtype         \n",
      "---  ------        --------------  -----         \n",
      " 0   DATE          1819 non-null   datetime64[ns]\n",
      " 1   DCOILBRENTEU  1819 non-null   float64       \n",
      " 2   WM2NS         1814 non-null   float64       \n",
      "dtypes: datetime64[ns](1), float64(2)\n",
      "memory usage: 42.8 KB\n"
     ]
    }
   ],
   "source": [
    "fed_data2 = pdf.get_data_fred(['DCOILBRENTEU', 'WM2NS'])\n",
    "fed_data2 = fed_data2.resample('D').asfreq().fillna(method='ffill').reset_index()\n",
    "fed_data2.info()"
   ]
  },
  {
   "cell_type": "code",
   "execution_count": 17,
   "id": "6c8f84a1",
   "metadata": {},
   "outputs": [],
   "source": [
    "covid_data = pd.read_csv('covid.csv', sep = ',')\n",
    "covid_df = pd.DataFrame(covid_data).set_index('DATE')\n",
    "covid_df.index = pd.to_datetime(covid_df.index)\n",
    "covid_df.index.name = 'DATE'"
   ]
  },
  {
   "cell_type": "code",
   "execution_count": 28,
   "id": "f6f2c62a",
   "metadata": {},
   "outputs": [
    {
     "name": "stdout",
     "output_type": "stream",
     "text": [
      "<class 'pandas.core.frame.DataFrame'>\n",
      "DatetimeIndex: 22 entries, 2020-02-01 to 2021-11-01\n",
      "Data columns (total 7 columns):\n",
      " #   Column       Non-Null Count  Dtype  \n",
      "---  ------       --------------  -----  \n",
      " 0   Confirmed    22 non-null     int64  \n",
      " 1   UNRATE       22 non-null     float64\n",
      " 2   INDPRO       22 non-null     float64\n",
      " 3   W823RC1      22 non-null     float64\n",
      " 4   POILBREUSDM  22 non-null     float64\n",
      " 5   TSIFRGHTC    22 non-null     float64\n",
      " 6   CPILFESL     22 non-null     float64\n",
      "dtypes: float64(6), int64(1)\n",
      "memory usage: 1.4 KB\n"
     ]
    }
   ],
   "source": [
    "merge_df = [fed_data1, fed_data2, covid_df]\n",
    "new_df = covid_df.merge(fed_data1, left_index=True, right_index=True).dropna()\n",
    "new_df.info()"
   ]
  },
  {
   "cell_type": "code",
   "execution_count": 20,
   "id": "a1467228",
   "metadata": {
    "scrolled": false
   },
   "outputs": [
    {
     "name": "stdout",
     "output_type": "stream",
     "text": [
      "                            OLS Regression Results                            \n",
      "==============================================================================\n",
      "Dep. Variable:                 INDPRO   R-squared:                       0.958\n",
      "Model:                            OLS   Adj. R-squared:                  0.941\n",
      "Method:                 Least Squares   F-statistic:                     56.61\n",
      "Date:                Mon, 25 Apr 2022   Prob (F-statistic):           1.86e-09\n",
      "Time:                        20:34:03   Log-Likelihood:                -30.148\n",
      "No. Observations:                  22   AIC:                             74.30\n",
      "Df Residuals:                      15   BIC:                             81.93\n",
      "Df Model:                           6                                         \n",
      "Covariance Type:            nonrobust                                         \n",
      "===============================================================================\n",
      "                  coef    std err          t      P>|t|      [0.025      0.975]\n",
      "-------------------------------------------------------------------------------\n",
      "Intercept     -38.7007     94.613     -0.409      0.688    -240.363     162.962\n",
      "UNRATE         -1.1724      0.137     -8.589      0.000      -1.463      -0.881\n",
      "W823RC1         0.1039      0.083      1.255      0.229      -0.073       0.280\n",
      "Confirmed   -2.311e-07   1.35e-07     -1.715      0.107   -5.18e-07    5.61e-08\n",
      "POILBREUSDM     0.1434      0.064      2.241      0.041       0.007       0.280\n",
      "TSIFRGHTC       0.1781      0.132      1.348      0.198      -0.104       0.460\n",
      "CPILFESL        0.0977      0.144      0.676      0.509      -0.210       0.406\n",
      "==============================================================================\n",
      "Omnibus:                        2.437   Durbin-Watson:                   1.597\n",
      "Prob(Omnibus):                  0.296   Jarque-Bera (JB):                1.994\n",
      "Skew:                          -0.704   Prob(JB):                        0.369\n",
      "Kurtosis:                       2.559   Cond. No.                     9.51e+09\n",
      "==============================================================================\n",
      "\n",
      "Notes:\n",
      "[1] Standard Errors assume that the covariance matrix of the errors is correctly specified.\n",
      "[2] The condition number is large, 9.51e+09. This might indicate that there are\n",
      "strong multicollinearity or other numerical problems.\n"
     ]
    }
   ],
   "source": [
    "reg4 = 'INDPRO~UNRATE+W823RC1+Confirmed+POILBREUSDM+TSIFRGHTC+CPILFESL'\n",
    "reg4output=smf.ols(reg4, new_df).fit()\n",
    "print(reg4output.summary())"
   ]
  },
  {
   "cell_type": "code",
   "execution_count": null,
   "id": "d67f3aa2",
   "metadata": {
    "scrolled": false
   },
   "outputs": [],
   "source": [
    "fig = sm.graphics.influence_plot(reg4output, criterion=\"cooks\")"
   ]
  },
  {
   "cell_type": "code",
   "execution_count": null,
   "id": "28fa2d34",
   "metadata": {},
   "outputs": [],
   "source": [
    "new_df.describe()"
   ]
  },
  {
   "cell_type": "code",
   "execution_count": null,
   "id": "978b5419",
   "metadata": {},
   "outputs": [],
   "source": [
    "Y = new_df['W823RC1']\n",
    "X = new_df[['Confirmed',\n",
    " 'UNRATE',\n",
    " 'TSIFRGHTC',\n",
    " 'POILBREUSDM',\n",
    " 'INDPRO']]\n",
    "X = sm.add_constant(X)"
   ]
  },
  {
   "cell_type": "code",
   "execution_count": null,
   "id": "d3eb9a31",
   "metadata": {},
   "outputs": [],
   "source": [
    "ks = sm.OLS(Y, X)\n",
    "ks_res =ks.fit()\n",
    "ks_res.summary()"
   ]
  },
  {
   "cell_type": "code",
   "execution_count": null,
   "id": "aa3cc03d",
   "metadata": {},
   "outputs": [],
   "source": [
    "sns.pairplot(X);"
   ]
  },
  {
   "cell_type": "code",
   "execution_count": null,
   "id": "575321eb",
   "metadata": {
    "scrolled": false
   },
   "outputs": [],
   "source": [
    "sns.distplot(reg4output.resid, fit=stats.norm);"
   ]
  },
  {
   "cell_type": "code",
   "execution_count": null,
   "id": "2c7432b7",
   "metadata": {},
   "outputs": [],
   "source": [
    "sm.qqplot(reg4output.resid, line='s');"
   ]
  },
  {
   "cell_type": "code",
   "execution_count": null,
   "id": "5d1adc5f",
   "metadata": {},
   "outputs": [],
   "source": []
  }
 ],
 "metadata": {
  "kernelspec": {
   "display_name": "Python 3",
   "language": "python",
   "name": "python3"
  },
  "language_info": {
   "codemirror_mode": {
    "name": "ipython",
    "version": 3
   },
   "file_extension": ".py",
   "mimetype": "text/x-python",
   "name": "python",
   "nbconvert_exporter": "python",
   "pygments_lexer": "ipython3",
   "version": "3.8.8"
  }
 },
 "nbformat": 4,
 "nbformat_minor": 5
}
