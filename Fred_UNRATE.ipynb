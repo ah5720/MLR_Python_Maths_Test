{
 "cells": [
  {
   "cell_type": "code",
   "execution_count": 1,
   "id": "337ff778",
   "metadata": {},
   "outputs": [
    {
     "name": "stdout",
     "output_type": "stream",
     "text": [
      "Requirement already satisfied: pandas_datareader in c:\\users\\chan\\anaconda3\\lib\\site-packages (0.10.0)\n",
      "Requirement already satisfied: pandas>=0.23 in c:\\users\\chan\\anaconda3\\lib\\site-packages (from pandas_datareader) (1.2.4)\n",
      "Requirement already satisfied: lxml in c:\\users\\chan\\anaconda3\\lib\\site-packages (from pandas_datareader) (4.6.3)\n",
      "Requirement already satisfied: requests>=2.19.0 in c:\\users\\chan\\anaconda3\\lib\\site-packages (from pandas_datareader) (2.25.1)\n",
      "Requirement already satisfied: python-dateutil>=2.7.3 in c:\\users\\chan\\anaconda3\\lib\\site-packages (from pandas>=0.23->pandas_datareader) (2.8.2)\n",
      "Requirement already satisfied: numpy>=1.16.5 in c:\\users\\chan\\anaconda3\\lib\\site-packages (from pandas>=0.23->pandas_datareader) (1.20.1)\n",
      "Requirement already satisfied: pytz>=2017.3 in c:\\users\\chan\\anaconda3\\lib\\site-packages (from pandas>=0.23->pandas_datareader) (2021.1)\n",
      "Requirement already satisfied: six>=1.5 in c:\\users\\chan\\anaconda3\\lib\\site-packages (from python-dateutil>=2.7.3->pandas>=0.23->pandas_datareader) (1.15.0)\n",
      "Requirement already satisfied: certifi>=2017.4.17 in c:\\users\\chan\\anaconda3\\lib\\site-packages (from requests>=2.19.0->pandas_datareader) (2020.12.5)\n",
      "Requirement already satisfied: chardet<5,>=3.0.2 in c:\\users\\chan\\anaconda3\\lib\\site-packages (from requests>=2.19.0->pandas_datareader) (4.0.0)\n",
      "Requirement already satisfied: urllib3<1.27,>=1.21.1 in c:\\users\\chan\\anaconda3\\lib\\site-packages (from requests>=2.19.0->pandas_datareader) (1.26.4)\n",
      "Requirement already satisfied: idna<3,>=2.5 in c:\\users\\chan\\anaconda3\\lib\\site-packages (from requests>=2.19.0->pandas_datareader) (2.10)\n",
      "Note: you may need to restart the kernel to use updated packages.\n"
     ]
    }
   ],
   "source": [
    "pip install pandas_datareader\n"
   ]
  },
  {
   "cell_type": "code",
   "execution_count": 12,
   "id": "741fa4b0",
   "metadata": {},
   "outputs": [],
   "source": [
    "import pandas_datareader as pdf\n",
    "import matplotlib.pyplot as plt\n",
    "import pandas as pd"
   ]
  },
  {
   "cell_type": "code",
   "execution_count": 3,
   "id": "8401faa2",
   "metadata": {},
   "outputs": [],
   "source": [
    "fed_data1 = pdf.get_data_fred(['UNRATE', 'FEDFUNDS', 'INDPRO'])"
   ]
  },
  {
   "cell_type": "code",
   "execution_count": 10,
   "id": "e40bb778",
   "metadata": {},
   "outputs": [
    {
     "data": {
      "text/html": [
       "<div>\n",
       "<style scoped>\n",
       "    .dataframe tbody tr th:only-of-type {\n",
       "        vertical-align: middle;\n",
       "    }\n",
       "\n",
       "    .dataframe tbody tr th {\n",
       "        vertical-align: top;\n",
       "    }\n",
       "\n",
       "    .dataframe thead th {\n",
       "        text-align: right;\n",
       "    }\n",
       "</style>\n",
       "<table border=\"1\" class=\"dataframe\">\n",
       "  <thead>\n",
       "    <tr style=\"text-align: right;\">\n",
       "      <th></th>\n",
       "      <th>UNRATE</th>\n",
       "      <th>FEDFUNDS</th>\n",
       "      <th>INDPRO</th>\n",
       "    </tr>\n",
       "  </thead>\n",
       "  <tbody>\n",
       "    <tr>\n",
       "      <th>count</th>\n",
       "      <td>59.000000</td>\n",
       "      <td>59.000000</td>\n",
       "      <td>59.000000</td>\n",
       "    </tr>\n",
       "    <tr>\n",
       "      <th>mean</th>\n",
       "      <td>5.047458</td>\n",
       "      <td>1.063220</td>\n",
       "      <td>100.375137</td>\n",
       "    </tr>\n",
       "    <tr>\n",
       "      <th>std</th>\n",
       "      <td>2.321070</td>\n",
       "      <td>0.904785</td>\n",
       "      <td>3.910134</td>\n",
       "    </tr>\n",
       "    <tr>\n",
       "      <th>min</th>\n",
       "      <td>3.500000</td>\n",
       "      <td>0.050000</td>\n",
       "      <td>84.201800</td>\n",
       "    </tr>\n",
       "    <tr>\n",
       "      <th>25%</th>\n",
       "      <td>3.800000</td>\n",
       "      <td>0.090000</td>\n",
       "      <td>99.727000</td>\n",
       "    </tr>\n",
       "    <tr>\n",
       "      <th>50%</th>\n",
       "      <td>4.100000</td>\n",
       "      <td>1.150000</td>\n",
       "      <td>101.356100</td>\n",
       "    </tr>\n",
       "    <tr>\n",
       "      <th>75%</th>\n",
       "      <td>5.600000</td>\n",
       "      <td>1.870000</td>\n",
       "      <td>102.613550</td>\n",
       "    </tr>\n",
       "    <tr>\n",
       "      <th>max</th>\n",
       "      <td>14.700000</td>\n",
       "      <td>2.420000</td>\n",
       "      <td>104.585300</td>\n",
       "    </tr>\n",
       "  </tbody>\n",
       "</table>\n",
       "</div>"
      ],
      "text/plain": [
       "          UNRATE   FEDFUNDS      INDPRO\n",
       "count  59.000000  59.000000   59.000000\n",
       "mean    5.047458   1.063220  100.375137\n",
       "std     2.321070   0.904785    3.910134\n",
       "min     3.500000   0.050000   84.201800\n",
       "25%     3.800000   0.090000   99.727000\n",
       "50%     4.100000   1.150000  101.356100\n",
       "75%     5.600000   1.870000  102.613550\n",
       "max    14.700000   2.420000  104.585300"
      ]
     },
     "execution_count": 10,
     "metadata": {},
     "output_type": "execute_result"
    }
   ],
   "source": [
    "fed_data1.describe()"
   ]
  },
  {
   "cell_type": "code",
   "execution_count": 5,
   "id": "c07b6ca0",
   "metadata": {},
   "outputs": [],
   "source": [
    "import statsmodels.formula.api as smf"
   ]
  },
  {
   "cell_type": "code",
   "execution_count": 6,
   "id": "14fa0ee3",
   "metadata": {},
   "outputs": [],
   "source": [
    "reg1='INDPRO~UNRATE+FEDFUNDS'"
   ]
  },
  {
   "cell_type": "code",
   "execution_count": 7,
   "id": "397103d3",
   "metadata": {},
   "outputs": [],
   "source": [
    "reg1output=smf.ols(reg1, fed_data1).fit()"
   ]
  },
  {
   "cell_type": "code",
   "execution_count": 8,
   "id": "25f49c06",
   "metadata": {},
   "outputs": [
    {
     "name": "stdout",
     "output_type": "stream",
     "text": [
      "                            OLS Regression Results                            \n",
      "==============================================================================\n",
      "Dep. Variable:                 INDPRO   R-squared:                       0.899\n",
      "Model:                            OLS   Adj. R-squared:                  0.895\n",
      "Method:                 Least Squares   F-statistic:                     249.3\n",
      "Date:                Mon, 25 Apr 2022   Prob (F-statistic):           1.31e-28\n",
      "Time:                        12:55:14   Log-Likelihood:                -96.020\n",
      "No. Observations:                  59   AIC:                             198.0\n",
      "Df Residuals:                      56   BIC:                             204.3\n",
      "Df Model:                           2                                         \n",
      "Covariance Type:            nonrobust                                         \n",
      "==============================================================================\n",
      "                 coef    std err          t      P>|t|      [0.025      0.975]\n",
      "------------------------------------------------------------------------------\n",
      "Intercept    108.2636      0.635    170.419      0.000     106.991     109.536\n",
      "UNRATE        -1.5794      0.088    -17.995      0.000      -1.755      -1.404\n",
      "FEDFUNDS       0.0785      0.225      0.349      0.729      -0.373       0.530\n",
      "==============================================================================\n",
      "Omnibus:                        1.911   Durbin-Watson:                   0.764\n",
      "Prob(Omnibus):                  0.385   Jarque-Bera (JB):                1.252\n",
      "Skew:                          -0.336   Prob(JB):                        0.535\n",
      "Kurtosis:                       3.241   Cond. No.                         22.9\n",
      "==============================================================================\n",
      "\n",
      "Notes:\n",
      "[1] Standard Errors assume that the covariance matrix of the errors is correctly specified.\n"
     ]
    }
   ],
   "source": [
    "print(reg1output.summary())"
   ]
  },
  {
   "cell_type": "code",
   "execution_count": 9,
   "id": "8eee0347",
   "metadata": {},
   "outputs": [
    {
     "data": {
      "text/plain": [
       "[<matplotlib.lines.Line2D at 0x1ccf64eee20>,\n",
       " <matplotlib.lines.Line2D at 0x1ccf64b38e0>,\n",
       " <matplotlib.lines.Line2D at 0x1ccf6ffde80>]"
      ]
     },
     "execution_count": 9,
     "metadata": {},
     "output_type": "execute_result"
    },
    {
     "data": {
      "image/png": "[encoded data removed]",
      "text/plain": [
       "<Figure size 432x288 with 1 Axes>"
      ]
     },
     "metadata": {
      "needs_background": "light"
     },
     "output_type": "display_data"
    }
   ],
   "source": [
    "plt.plot(fed_data1)"
   ]
  },
  {
   "cell_type": "code",
   "execution_count": 132,
   "id": "71e00cb8",
   "metadata": {},
   "outputs": [
    {
     "name": "stdout",
     "output_type": "stream",
     "text": [
      "<class 'pandas.core.frame.DataFrame'>\n",
      "DatetimeIndex: 59 entries, 2017-05-01 to 2022-03-01\n",
      "Data columns (total 3 columns):\n",
      " #   Column    Non-Null Count  Dtype  \n",
      "---  ------    --------------  -----  \n",
      " 0   UNRATE    59 non-null     float64\n",
      " 1   FEDFUNDS  59 non-null     float64\n",
      " 2   INDPRO    59 non-null     float64\n",
      "dtypes: float64(3)\n",
      "memory usage: 3.9 KB\n"
     ]
    }
   ],
   "source": [
    "fed_data1.info()"
   ]
  },
  {
   "cell_type": "code",
   "execution_count": 128,
   "id": "6c8f84a1",
   "metadata": {},
   "outputs": [],
   "source": [
    "covid_data = pd.read_csv('covid.csv', sep = ',')\n",
    "covid_df = pd.DataFrame(covid_data).set_index('DATE')"
   ]
  },
  {
   "cell_type": "code",
   "execution_count": 129,
   "id": "40ab3273",
   "metadata": {},
   "outputs": [],
   "source": [
    "covid_df.index = pd.to_datetime(covid_df.index)"
   ]
  },
  {
   "cell_type": "code",
   "execution_count": 130,
   "id": "e0193a3d",
   "metadata": {},
   "outputs": [
    {
     "data": {
      "text/plain": [
       "[<matplotlib.lines.Line2D at 0x1ccfffa2340>]"
      ]
     },
     "execution_count": 130,
     "metadata": {},
     "output_type": "execute_result"
    },
    {
     "data": {
      "image/png": "[encoded data removed]",
      "text/plain": [
       "<Figure size 432x288 with 1 Axes>"
      ]
     },
     "metadata": {
      "needs_background": "light"
     },
     "output_type": "display_data"
    }
   ],
   "source": [
    "plt.plot(covid_df)"
   ]
  },
  {
   "cell_type": "code",
   "execution_count": 131,
   "id": "d53f937f",
   "metadata": {},
   "outputs": [
    {
     "name": "stdout",
     "output_type": "stream",
     "text": [
      "<class 'pandas.core.frame.DataFrame'>\n",
      "DatetimeIndex: 824 entries, 2020-01-22 to 2022-04-24\n",
      "Data columns (total 1 columns):\n",
      " #   Column     Non-Null Count  Dtype\n",
      "---  ------     --------------  -----\n",
      " 0   Confirmed  824 non-null    int64\n",
      "dtypes: int64(1)\n",
      "memory usage: 12.9 KB\n"
     ]
    }
   ],
   "source": [
    "covid_df.index.name = 'DATE'\n",
    "covid_df.info()"
   ]
  },
  {
   "cell_type": "code",
   "execution_count": 136,
   "id": "f6f2c62a",
   "metadata": {},
   "outputs": [],
   "source": [
    "merge_df = [fed_data1, covid_df]\n",
    "new_df = covid_df.merge(fed_data1, left_index=True, right_index=True)"
   ]
  },
  {
   "cell_type": "code",
   "execution_count": 150,
   "id": "305785f6",
   "metadata": {},
   "outputs": [
    {
     "data": {
      "text/html": [
       "<div>\n",
       "<style scoped>\n",
       "    .dataframe tbody tr th:only-of-type {\n",
       "        vertical-align: middle;\n",
       "    }\n",
       "\n",
       "    .dataframe tbody tr th {\n",
       "        vertical-align: top;\n",
       "    }\n",
       "\n",
       "    .dataframe thead th {\n",
       "        text-align: right;\n",
       "    }\n",
       "</style>\n",
       "<table border=\"1\" class=\"dataframe\">\n",
       "  <thead>\n",
       "    <tr style=\"text-align: right;\">\n",
       "      <th></th>\n",
       "      <th>Confirmed</th>\n",
       "      <th>UNRATE</th>\n",
       "      <th>FEDFUNDS</th>\n",
       "      <th>INDPRO</th>\n",
       "    </tr>\n",
       "    <tr>\n",
       "      <th>DATE</th>\n",
       "      <th></th>\n",
       "      <th></th>\n",
       "      <th></th>\n",
       "      <th></th>\n",
       "    </tr>\n",
       "  </thead>\n",
       "  <tbody>\n",
       "    <tr>\n",
       "      <th>2020-02-01</th>\n",
       "      <td>8</td>\n",
       "      <td>3.5</td>\n",
       "      <td>1.58</td>\n",
       "      <td>101.3247</td>\n",
       "    </tr>\n",
       "    <tr>\n",
       "      <th>2020-03-01</th>\n",
       "      <td>32</td>\n",
       "      <td>4.4</td>\n",
       "      <td>0.65</td>\n",
       "      <td>97.4477</td>\n",
       "    </tr>\n",
       "    <tr>\n",
       "      <th>2020-04-01</th>\n",
       "      <td>223254</td>\n",
       "      <td>14.7</td>\n",
       "      <td>0.05</td>\n",
       "      <td>84.2018</td>\n",
       "    </tr>\n",
       "    <tr>\n",
       "      <th>2020-05-01</th>\n",
       "      <td>1111409</td>\n",
       "      <td>13.2</td>\n",
       "      <td>0.05</td>\n",
       "      <td>85.8434</td>\n",
       "    </tr>\n",
       "    <tr>\n",
       "      <th>2020-06-01</th>\n",
       "      <td>1806075</td>\n",
       "      <td>11.0</td>\n",
       "      <td>0.08</td>\n",
       "      <td>91.1622</td>\n",
       "    </tr>\n",
       "  </tbody>\n",
       "</table>\n",
       "</div>"
      ],
      "text/plain": [
       "            Confirmed  UNRATE  FEDFUNDS    INDPRO\n",
       "DATE                                             \n",
       "2020-02-01          8     3.5      1.58  101.3247\n",
       "2020-03-01         32     4.4      0.65   97.4477\n",
       "2020-04-01     223254    14.7      0.05   84.2018\n",
       "2020-05-01    1111409    13.2      0.05   85.8434\n",
       "2020-06-01    1806075    11.0      0.08   91.1622"
      ]
     },
     "execution_count": 150,
     "metadata": {},
     "output_type": "execute_result"
    }
   ],
   "source": [
    "new_df.head()"
   ]
  },
  {
   "cell_type": "code",
   "execution_count": 144,
   "id": "2fe76a55",
   "metadata": {},
   "outputs": [],
   "source": [
    "reg2 = 'INDPRO~UNRATE+FEDFUNDS+Confirmed'"
   ]
  },
  {
   "cell_type": "code",
   "execution_count": 148,
   "id": "7e8a7ec3",
   "metadata": {},
   "outputs": [],
   "source": [
    "reg2output=smf.ols(reg2, new_df).fit()"
   ]
  },
  {
   "cell_type": "code",
   "execution_count": 149,
   "id": "687b0647",
   "metadata": {},
   "outputs": [
    {
     "name": "stdout",
     "output_type": "stream",
     "text": [
      "                            OLS Regression Results                            \n",
      "==============================================================================\n",
      "Dep. Variable:                 INDPRO   R-squared:                       0.940\n",
      "Model:                            OLS   Adj. R-squared:                  0.932\n",
      "Method:                 Least Squares   F-statistic:                     115.3\n",
      "Date:                Mon, 25 Apr 2022   Prob (F-statistic):           1.32e-13\n",
      "Time:                        16:31:54   Log-Likelihood:                -40.994\n",
      "No. Observations:                  26   AIC:                             89.99\n",
      "Df Residuals:                      22   BIC:                             95.02\n",
      "Df Model:                           3                                         \n",
      "Covariance Type:            nonrobust                                         \n",
      "==============================================================================\n",
      "                 coef    std err          t      P>|t|      [0.025      0.975]\n",
      "------------------------------------------------------------------------------\n",
      "Intercept    107.0985      1.506     71.131      0.000     103.976     110.221\n",
      "UNRATE        -1.4804      0.147    -10.089      0.000      -1.785      -1.176\n",
      "FEDFUNDS      -0.8912      1.086     -0.821      0.420      -3.143       1.360\n",
      "Confirmed   3.093e-08   1.84e-08      1.681      0.107   -7.22e-09    6.91e-08\n",
      "==============================================================================\n",
      "Omnibus:                        1.067   Durbin-Watson:                   1.594\n",
      "Prob(Omnibus):                  0.587   Jarque-Bera (JB):                0.250\n",
      "Skew:                          -0.170   Prob(JB):                        0.882\n",
      "Kurtosis:                       3.339   Cond. No.                     2.40e+08\n",
      "==============================================================================\n",
      "\n",
      "Notes:\n",
      "[1] Standard Errors assume that the covariance matrix of the errors is correctly specified.\n",
      "[2] The condition number is large, 2.4e+08. This might indicate that there are\n",
      "strong multicollinearity or other numerical problems.\n"
     ]
    }
   ],
   "source": [
    "print(reg2output.summary())"
   ]
  },
  {
   "cell_type": "code",
   "execution_count": null,
   "id": "91badf03",
   "metadata": {},
   "outputs": [],
   "source": []
  }
 ],
 "metadata": {
  "kernelspec": {
   "display_name": "Python 3",
   "language": "python",
   "name": "python3"
  },
  "language_info": {
   "codemirror_mode": {
    "name": "ipython",
    "version": 3
   },
   "file_extension": ".py",
   "mimetype": "text/x-python",
   "name": "python",
   "nbconvert_exporter": "python",
   "pygments_lexer": "ipython3",
   "version": "3.8.8"
  }
 },
 "nbformat": 4,
 "nbformat_minor": 5
}
